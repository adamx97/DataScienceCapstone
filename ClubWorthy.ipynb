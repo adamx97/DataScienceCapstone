{
 "cells": [
  {
   "cell_type": "markdown",
   "metadata": {},
   "source": [
    "## Club Worthy: Finding a neighborhood suitable for a live music venue"
   ]
  },
  {
   "cell_type": "markdown",
   "metadata": {},
   "source": [
    "## Introduction/Business Problem\n",
    "Many cities seem to have too few live music venues.  This project will attempt to find a good neighborhood for a music venue.  To be successful, the location should not already have too many music venues, but have a sufficiently robust nightlife to support another night time business.  We will look for neighborhoods with sufficient restaurants, bars, cafes, and dance or night clubs (which tend to have recorded music) but with fewer live music venues.  If a neighbordhood has no restarants or bars, it probably isn't a place that people frequent at night for entertainments, and it seems less likely that people out for the evening would want to make a special trip just for one venue.  On the other hand, with sufficient bars and restaurants, the neighborhood would be enhanced by an additional nighttime venue and help add to the overall traffic.  If an area can be found within a reasonable distance of two nightlife centers, that might be optimal, since it could help bridge the two and benefit from the traffic at both.  "
   ]
  },
  {
   "cell_type": "markdown",
   "metadata": {},
   "source": [
    "## Data \n",
    "We will use Foursquare venue location data to find clusters of bars, restaurants, clubs and other music venues within the city.  A future revision to this  criteria for this exercise would be to include the demographics of the city, to attempt to determine if the residents were in likely age groups, and had sufficient disposable income."
   ]
  }
 ],
 "metadata": {
  "language_info": {
   "codemirror_mode": {
    "name": "ipython",
    "version": 3
   },
   "file_extension": ".py",
   "mimetype": "text/x-python",
   "name": "python",
   "nbconvert_exporter": "python",
   "pygments_lexer": "ipython3",
   "version": "3.7.7-final"
  },
  "orig_nbformat": 2,
  "kernelspec": {
   "name": "python37764bitmyenvconda11afb696ca77400ab9d7229cc208ed8d",
   "display_name": "Python 3.7.7 64-bit ('myenv': conda)"
  }
 },
 "nbformat": 4,
 "nbformat_minor": 2
}