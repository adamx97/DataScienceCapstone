{
 "cells": [
  {
   "cell_type": "markdown",
   "metadata": {},
   "source": [
    "## Segmentation and Cluster of Neighborhoods in Toronto\n",
    "\n",
    "Use the Notebook to build the code to scrape the following Wikipedia page, https://en.wikipedia.org/wiki/List_of_postal_codes_of_Canada:_M, in order to obtain the data that is in the table of postal codes and to transform the data into a pandas dataframe like the one shown at <a href=\"https://d3c33hcgiwev3.cloudfront.net/imageAssetProxy.v1/7JXaz3NNEeiMwApe4i-fLg_40e690ae0e927abda2d4bde7d94ed133_Screen-Shot-2018-06-18-at-7.17.57-PM.png?expiry=1588809600000&hmac=K2IKamXvUjuNmLLVhDi_Wu2GdwvfoENh4B5fk0IWC6U\">the coursera site.</a>\n",
    "https://d3c33hcgiwev3.cloudfront.net/imageAssetProxy.v1/7JXaz3NNEeiMwApe4i-fLg_40e690ae0e927abda2d4bde7d94ed133_Screen-Shot-2018-06-18-at-7.17.57-PM.png?expiry=1588809600000&hmac=K2IKamXvUjuNmLLVhDi_Wu2GdwvfoENh4B5fk0IWC6U\n",
    "\n",
    "To create the above dataframe:\n",
    "\n",
    "\n",
    "    \n"
   ]
  },
  {
   "cell_type": "code",
   "execution_count": 43,
   "metadata": {},
   "outputs": [
    {
     "output_type": "stream",
     "name": "stdout",
     "text": "Collecting package metadata (current_repodata.json): ...working... done\nSolving environment: ...working... done\n\n# All requested packages already installed.\n\n\nNote: you may need to restart the kernel to use updated packages.\n"
    }
   ],
   "source": [
    "conda install -n myenv -c conda-forge geopy --yes\n"
   ]
  },
  {
   "cell_type": "code",
   "execution_count": 38,
   "metadata": {},
   "outputs": [
    {
     "output_type": "stream",
     "name": "stdout",
     "text": "Collecting package metadata (current_repodata.json): ...working... done\nSolving environment: ...working... done\n\n# All requested packages already installed.\n\n\nNote: you may need to restart the kernel to use updated packages.\n"
    }
   ],
   "source": [
    "conda install -n myenv -c conda-forge beautifulsoup4 --yes\n"
   ]
  },
  {
   "cell_type": "code",
   "execution_count": 39,
   "metadata": {},
   "outputs": [
    {
     "output_type": "stream",
     "name": "stdout",
     "text": "Collecting package metadata (current_repodata.json): ...working... done\nSolving environment: ...working... done\n\n# All requested packages already installed.\n\n\nNote: you may need to restart the kernel to use updated packages.\n"
    }
   ],
   "source": [
    "conda install -n myenv -c conda-forge lxml --yes"
   ]
  },
  {
   "cell_type": "code",
   "execution_count": null,
   "metadata": {},
   "outputs": [],
   "source": [
    "CLIENT_ID = 'C3NLZY0MJGCJENLKP4I5R0NONFIS3A4DPRNLGV33MWAU5Y3O' # your Foursquare ID\n",
    "CLIENT_SECRET = '2OOM4WNGBAPZ5M0NC0E4JF31EZXS2KD2XQETJVHAIGTOWMZM' # your Foursquare Secret\n",
    "VERSION = '20180604'\n",
    "LIMIT = 30\n",
    "print('Your credentails are hidden as CLIENT_ID, CLIENT_SECRET.')\n",
    "#print('CLIENT_ID: ' + CLIENT_ID)\n",
    "#print('CLIENT_SECRET:' + CLIENT_SECRET)"
   ]
  },
  {
   "cell_type": "markdown",
   "metadata": {},
   "source": [
    "The dataframe will consist of three columns: PostalCode, Borough, and Neighborhood\n",
    "--Only process the cells that have an assigned borough. Ignore cells with a borough that is Not assigned.\n",
    "More than one neighborhood can exist in one postal code area. For example, in the table on the Wikipedia page, you will notice that M5A is listed twice and has two neighborhoods: Harbourfront and Regent Park. These two rows will be combined into one row with the neighborhoods separated \n",
    "with a comma as shown in row 11 in the above table.\n",
    "\n",
    "--If a cell has a borough but a Not assigned neighborhood, then the neighborhood will be the same as the borough.\n"
   ]
  },
  {
   "cell_type": "code",
   "execution_count": 66,
   "metadata": {
    "tags": [
     "outputPrepend"
    ]
   },
   "outputs": [
    {
     "output_type": "stream",
     "name": "stdout",
     "text": "['M3A', 'North York', 'Parkwoods']\n['M4A', 'North York', 'Victoria Village']\n['M5A', 'Downtown Toronto', 'Regent Park, Harbourfront']\n['M6A', 'North York', 'Lawrence Manor, Lawrence Heights']\n['M7A', 'Downtown Toronto', \"Queen's Park, Ontario Provincial Government\"]\n['M9A', 'Etobicoke', 'Islington Avenue']\n['M1B', 'Scarborough', 'Malvern, Rouge']\n['M3B', 'North York', 'Don Mills']\n['M4B', 'East York', 'Parkview Hill, Woodbine Gardens']\n['M5B', 'Downtown Toronto', 'Garden District, Ryerson']\n"
    }
   ],
   "source": [
    "from bs4 import BeautifulSoup\n",
    "import requests\n",
    "\n",
    "source = requests.get('https://en.wikipedia.org/wiki/List_of_postal_codes_of_Canada:_M').text\n",
    "\n",
    "#with open(\"List of postal codes of Canada  M - Wikipedia.html\", encoding='utf8') as html:\n",
    "#    soup = BeautifulSoup(html)\n",
    "soup = BeautifulSoup(source)\n",
    "#print (soup)\n",
    "t = soup.table\n",
    "table_data = []\n",
    "t_headers = ['PostalCode', 'Borough', 'Neighborhood']\n",
    "\n",
    "for tr in t.tbody.find_all(\"tr\"): # find all tr's from table's tbody\n",
    "    t_value = []\n",
    "    # Each table row is stored in the form of\n",
    "    #t_row = {'Postal code', 'Borough', 'Neighborhood(s)'}\n",
    "    # find all td's(3) in tr and zip it with t_header\n",
    "    #for td, th in zip(tr.find_all(\"td\"), t_headers): \n",
    "    #    t_row[th] = td.text.replace('\\n', '').strip()\n",
    "    for td in tr.find_all('td'):\n",
    "        t_value.append(td.text.replace('\\n', '').strip())\n",
    "    if t_value:\n",
    "        table_data.append(t_value)\n",
    "\n",
    "mydata = table_data\n",
    "#print (mydata[0:10])\n",
    "cleaned = {v[0]: v for v in mydata if v and v[1]!='Not assigned' }\n",
    "#print (cleaned)\n",
    "for k in cleaned:\n",
    "    cleaned[k][2] = cleaned[k][2].replace(' / ', ', ')\n",
    "    if cleaned[k][2] == 'Not assigned': cleaned[k][2] = cleaned[k][1]\n",
    "\n",
    "for a in list(cleaned.keys())[0:10]:\n",
    "     print (cleaned[a])\n",
    "\n"
   ]
  },
  {
   "cell_type": "code",
   "execution_count": 75,
   "metadata": {},
   "outputs": [
    {
     "output_type": "execute_result",
     "data": {
      "text/plain": "    PostalCode           Borough                                 Neighborhood\nM3A        M3A        North York                                    Parkwoods\nM4A        M4A        North York                             Victoria Village\nM5A        M5A  Downtown Toronto                    Regent Park, Harbourfront\nM6A        M6A        North York             Lawrence Manor, Lawrence Heights\nM7A        M7A  Downtown Toronto  Queen's Park, Ontario Provincial Government",
      "text/html": "<div>\n<style scoped>\n    .dataframe tbody tr th:only-of-type {\n        vertical-align: middle;\n    }\n\n    .dataframe tbody tr th {\n        vertical-align: top;\n    }\n\n    .dataframe thead th {\n        text-align: right;\n    }\n</style>\n<table border=\"1\" class=\"dataframe\">\n  <thead>\n    <tr style=\"text-align: right;\">\n      <th></th>\n      <th>PostalCode</th>\n      <th>Borough</th>\n      <th>Neighborhood</th>\n    </tr>\n  </thead>\n  <tbody>\n    <tr>\n      <th>M3A</th>\n      <td>M3A</td>\n      <td>North York</td>\n      <td>Parkwoods</td>\n    </tr>\n    <tr>\n      <th>M4A</th>\n      <td>M4A</td>\n      <td>North York</td>\n      <td>Victoria Village</td>\n    </tr>\n    <tr>\n      <th>M5A</th>\n      <td>M5A</td>\n      <td>Downtown Toronto</td>\n      <td>Regent Park, Harbourfront</td>\n    </tr>\n    <tr>\n      <th>M6A</th>\n      <td>M6A</td>\n      <td>North York</td>\n      <td>Lawrence Manor, Lawrence Heights</td>\n    </tr>\n    <tr>\n      <th>M7A</th>\n      <td>M7A</td>\n      <td>Downtown Toronto</td>\n      <td>Queen's Park, Ontario Provincial Government</td>\n    </tr>\n  </tbody>\n</table>\n</div>"
     },
     "metadata": {},
     "execution_count": 75
    }
   ],
   "source": [
    "import pandas as pd\n",
    "\n",
    "t_headers = ['PostalCode', 'Borough', 'Neighborhood']\n",
    "data = pd.DataFrame.from_dict(cleaned, orient='index', columns=t_headers)\n",
    "\n",
    "data.head()\n"
   ]
  },
  {
   "cell_type": "code",
   "execution_count": 72,
   "metadata": {},
   "outputs": [
    {
     "output_type": "execute_result",
     "data": {
      "text/plain": "(103, 3)"
     },
     "metadata": {},
     "execution_count": 72
    }
   ],
   "source": [
    "data.shape"
   ]
  },
  {
   "cell_type": "code",
   "execution_count": null,
   "metadata": {},
   "outputs": [],
   "source": []
  }
 ],
 "metadata": {
  "language_info": {
   "codemirror_mode": {
    "name": "ipython",
    "version": 3
   },
   "file_extension": ".py",
   "mimetype": "text/x-python",
   "name": "python",
   "nbconvert_exporter": "python",
   "pygments_lexer": "ipython3",
   "version": "3.7.7-final"
  },
  "orig_nbformat": 2,
  "kernelspec": {
   "name": "python37764bitmyenvconda11afb696ca77400ab9d7229cc208ed8d",
   "display_name": "Python 3.7.7 64-bit ('myenv': conda)"
  }
 },
 "nbformat": 4,
 "nbformat_minor": 2
}